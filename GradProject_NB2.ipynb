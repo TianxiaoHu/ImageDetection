{
 "cells": [
  {
   "cell_type": "markdown",
   "metadata": {},
   "source": [
    "<h1> DS200A Computer Vision Assignment</h1>"
   ]
  },
  {
   "cell_type": "markdown",
   "metadata": {},
   "source": [
    "<h2>  Part Two: Feature Selection </h2>\t\n"
   ]
  },
  {
   "cell_type": "markdown",
   "metadata": {},
   "source": [
    "<h4> In this section, we would like you to select between 15 and 20 features to focus your model on. This will require significant explatoratory research. The first one is already implemented for you, and the next two are pre-specified.  </h4>"
   ]
  },
  {
   "cell_type": "code",
   "execution_count": null,
   "metadata": {},
   "outputs": [],
   "source": [
    "def ft0(image):\n",
    "    return image.size\n",
    "# Returns the pixel size of the image\n",
    "def ft1(image):\n",
    "    return image[:, :, 0].mean()\n",
    "# Returns the average of the red-channel pictures for the images\n",
    "def ft2(image):\n",
    "    return image.shape[0] / image.shape[1]\n",
    "#Returns the aspect ratio of the image\n"
   ]
  },
  {
   "cell_type": "markdown",
   "metadata": {},
   "source": [
    "Define more features above, performing any EDA research below. We expect all external sources sited, and a couple significant different graphs indicating some form of EDA. "
   ]
  },
  {
   "cell_type": "code",
   "execution_count": 217,
   "metadata": {},
   "outputs": [],
   "source": [
    "# import everythings\n",
    "import numpy as np\n",
    "import matplotlib.pyplot as plt\n",
    "import pandas as pd\n",
    "import matplotlib\n",
    "import skimage\n",
    "from skimage import data\n",
    "from skimage import io\n",
    "from skimage import feature\n",
    "import os\n",
    "import cv2"
   ]
  },
  {
   "cell_type": "code",
   "execution_count": 288,
   "metadata": {},
   "outputs": [],
   "source": [
    "def short_side_resize(image, length=256):\n",
    "    height, width, _ = image.shape\n",
    "    if height < width:\n",
    "        ratio = length / height\n",
    "    else:\n",
    "        ratio = length / width\n",
    "    new_height = int(height * ratio)\n",
    "    new_width = int(width * ratio)\n",
    "    return skimage.transform.resize(image, (new_height, new_width), mode='reflect', anti_aliasing=True)\n",
    "\n",
    "def center_crop(image, length=224):\n",
    "    height, width, _ = image.shape\n",
    "    cx, cy = height // 2, width // 2\n",
    "    lx, ly = cx - length//2, cy - length//2\n",
    "    hx, hy = length + lx, length + ly\n",
    "    return image[lx:hx, ly:hy, :]\n",
    "\n",
    "def ft_harris(image):\n",
    "    image = center_crop(short_side_resize(image))\n",
    "    #image = np.asarray(skimage.filters.gaussian(image, sigma=2))\n",
    "    gray = skimage.color.rgb2gray(image)\n",
    "    gray = np.array(gray * 255, dtype=np.uint8)\n",
    "    harris = cv2.cornerHarris(gray, blockSize=2, ksize=3, k=0.04)\n",
    "    harris_corners = np.where(harris > 0)\n",
    "    return len(harris_corners[0]) / harris.size"
   ]
  },
  {
   "cell_type": "code",
   "execution_count": 368,
   "metadata": {
    "scrolled": true
   },
   "outputs": [
    {
     "data": {
      "text/plain": [
       "<matplotlib.legend.Legend at 0x7fb59cf149e8>"
      ]
     },
     "execution_count": 368,
     "metadata": {},
     "output_type": "execute_result"
    },
    {
     "data": {
      "image/png": "[encoded data removed]",
      "text/plain": [
       "<Figure size 432x288 with 1 Axes>"
      ]
     },
     "metadata": {
      "needs_background": "light"
     },
     "output_type": "display_data"
    }
   ],
   "source": [
    "# EDA for Harris corner feature\n",
    "path1 = '/home/sweetdum/ImageDetection/20_categories_training/airplanes/'\n",
    "path2 = '/home/sweetdum/ImageDetection/20_categories_training/dog/'\n",
    "\n",
    "def feature_counter(feature, path):\n",
    "    num = []\n",
    "    for fn in os.listdir(path):\n",
    "        if not (fn.endswith('.jpg') or fn.endswith('.png')): \n",
    "            continue\n",
    "        img = io.imread(os.path.join(path, fn))\n",
    "        if len(img.shape) == 2: # gray\n",
    "            img = skimage.color.gray2rgb(img)\n",
    "        num.append(feature(img))\n",
    "    return num\n",
    "\n",
    "harris_corners_counter = lambda x: feature_counter(ft_harris, x)\n",
    "airplanes = harris_corners_counter(path1)\n",
    "dog = harris_corners_counter(path2)\n",
    "\n",
    "plt.hist(airplanes, alpha=0.5, label='airplanes')\n",
    "plt.hist(dog, alpha=0.5, label='dog')\n",
    "plt.legend(loc='upper right')"
   ]
  },
  {
   "cell_type": "code",
   "execution_count": 421,
   "metadata": {},
   "outputs": [
    {
     "name": "stdout",
     "output_type": "stream",
     "text": [
      "0.7205882352941176\n",
      "0.84251968503937\n"
     ]
    },
    {
     "data": {
      "image/png": "[encoded data removed]",
      "text/plain": [
       "<Figure size 432x288 with 1 Axes>"
      ]
     },
     "metadata": {
      "needs_background": "light"
     },
     "output_type": "display_data"
    }
   ],
   "source": [
    "#DoG: Difference of Gaussian\n",
    "\n",
    "path1 =  '20_categories_training/leopards/'\n",
    "path2 = '20_categories_training/dog/'\n",
    "def ft_dog(img):\n",
    "    gray = skimage.color.rgb2gray(img)\n",
    "    g3 = np.asarray(skimage.filters.gaussian(gray, sigma=0.3))\n",
    "    g5 = np.asarray(skimage.filters.gaussian(gray, sigma=0.5))\n",
    "    dog = g3-g5\n",
    "    return sum(sum(dog > 0.05 *dog.max() ))/dog.size\n",
    "\n",
    "dog_counter = lambda x: feature_counter(ft_dog, x)\n",
    "porcupine = dog_counter(path1)\n",
    "dog = dog_counter(path2)\n",
    "plt.hist(porcupine, alpha=0.5, label='leopards')\n",
    "plt.hist(dog, alpha=0.5, label='dog')\n",
    "plt.legend(loc='upper right')\n",
    "print(sum(np.array(dog) < 0.17) / len(dog))\n",
    "print(sum(np.array(porcupine) >= 0.17) / len(porcupine))"
   ]
  },
  {
   "cell_type": "markdown",
   "metadata": {},
   "source": [
    "<h4> Graphs </h4>"
   ]
  },
  {
   "cell_type": "code",
   "execution_count": null,
   "metadata": {},
   "outputs": [],
   "source": []
  },
  {
   "cell_type": "markdown",
   "metadata": {},
   "source": [
    "<h4> Sources </h4>"
   ]
  },
  {
   "cell_type": "code",
   "execution_count": null,
   "metadata": {},
   "outputs": [],
   "source": []
  },
  {
   "cell_type": "markdown",
   "metadata": {},
   "source": [
    "<h4> DataFrame Creation </h4>"
   ]
  },
  {
   "cell_type": "code",
   "execution_count": null,
   "metadata": {},
   "outputs": [],
   "source": [
    "def feature_frame(df):\n",
    "    return df\n",
    "    #Returns data-frame with all the features now inside, and calculated\n"
   ]
  },
  {
   "cell_type": "code",
   "execution_count": null,
   "metadata": {},
   "outputs": [],
   "source": [
    "feature_frame(data_from_nb1)"
   ]
  },
  {
   "cell_type": "code",
   "execution_count": null,
   "metadata": {},
   "outputs": [],
   "source": []
  }
 ],
 "metadata": {
  "kernelspec": {
   "display_name": "Python 3",
   "language": "python",
   "name": "python3"
  },
  "language_info": {
   "codemirror_mode": {
    "name": "ipython",
    "version": 3
   },
   "file_extension": ".py",
   "mimetype": "text/x-python",
   "name": "python",
   "nbconvert_exporter": "python",
   "pygments_lexer": "ipython3",
   "version": "3.7.1"
  }
 },
 "nbformat": 4,
 "nbformat_minor": 2
}
