{
 "cells": [
  {
   "cell_type": "markdown",
   "metadata": {},
   "source": [
    "\n",
    "<h1> DS200A Computer Vision Assignment</h1>"
   ]
  },
  {
   "cell_type": "markdown",
   "metadata": {},
   "source": [
    "<h2>  Part Three: Training Models </h2>\t"
   ]
  },
  {
   "cell_type": "code",
   "execution_count": 111,
   "metadata": {},
   "outputs": [],
   "source": [
    "import numpy as np\n",
    "import matplotlib.pyplot as plt\n",
    "import pandas as pd\n",
    "import matplotlib\n",
    "import skimage\n",
    "from skimage import data\n",
    "from skimage import io\n",
    "import os\n",
    "import cv2\n",
    "import sklearn\n",
    "%matplotlib inline"
   ]
  },
  {
   "cell_type": "code",
   "execution_count": 112,
   "metadata": {},
   "outputs": [],
   "source": [
    "df = pd.read_hdf('feature.h5', 'feature')\n",
    "TRAIN_RATIO = 0.8\n",
    "def train_test_split(df):\n",
    "    df = sklearn.utils.shuffle(df)\n",
    "    train_n = int(len(df) * TRAIN_RATIO)\n",
    "    return df[:train_n], df[train_n:]\n",
    "\n",
    "#Split the data into a training set, and test set \n",
    "def accuracy(pred, actual):\n",
    "    return (pred == actual).mean()\n",
    "# Calculate the accuracy percentage of the predicted values\n",
    "\n",
    "def feature_normalize(X):\n",
    "    \"\"\"\n",
    "    normalized features to mean 0 and variance 1.\n",
    "    \"\"\"\n",
    "    for item in X.columns:\n",
    "        mu = X[item].mean()\n",
    "        sigma = (X[item] - mu)**2\n",
    "        sigma = sigma ** 0.5\n",
    "        X[item] = (X[item] - mu) / (sigma + 1e-10)\n",
    "        \n",
    "# load data\n",
    "train_set, val_set = train_test_split(df)"
   ]
  },
  {
   "cell_type": "markdown",
   "metadata": {},
   "source": [
    "<h3>  Train models using all of the following methods below. Be sure to drop the actual image column, and the encoding</h3>\tTake note of the differences in accuracy, and methods.\n"
   ]
  },
  {
   "cell_type": "markdown",
   "metadata": {},
   "source": [
    "Logistic Regression"
   ]
  },
  {
   "cell_type": "code",
   "execution_count": 113,
   "metadata": {},
   "outputs": [],
   "source": [
    "X_train, y_train = train_set.copy(), train_set['Encoding']\n",
    "del X_train['Encoding']\n",
    "feature_normalize(X_train)\n",
    "X_val, y_val = val_set.copy(), val_set['Encoding']\n",
    "del X_val['Encoding']\n",
    "feature_normalize(X_val)"
   ]
  },
  {
   "cell_type": "code",
   "execution_count": 114,
   "metadata": {},
   "outputs": [
    {
     "name": "stdout",
     "output_type": "stream",
     "text": [
      "Accuracy on train = 0.35583333333333333\n",
      "Accuracy on val = 0.2823920265780731\n"
     ]
    }
   ],
   "source": [
    "from sklearn.linear_model import LogisticRegression\n",
    "LRClassifier = LogisticRegression(random_state=0, solver='lbfgs', multi_class='multinomial', max_iter=500)\n",
    "lr_weight = LRClassifier.fit(X_train, y_train)\n",
    "yhat = lr_weight.predict(X_train)\n",
    "print(\"Accuracy on train = {}\".format(accuracy(yhat, y_train)))\n",
    "yhat = lr_weight.predict(X_val)\n",
    "print(\"Accuracy on val = {}\".format(accuracy(yhat, y_val)))\n"
   ]
  },
  {
   "cell_type": "markdown",
   "metadata": {},
   "source": [
    "K-nearest Neighbors"
   ]
  },
  {
   "cell_type": "code",
   "execution_count": 119,
   "metadata": {},
   "outputs": [
    {
     "name": "stdout",
     "output_type": "stream",
     "text": [
      "Accuracy on train = 0.31416666666666665\n",
      "Accuracy on val = 0.24916943521594684\n"
     ]
    }
   ],
   "source": [
    "from sklearn.neighbors import KNeighborsClassifier\n",
    "KNNClassifier = KNeighborsClassifier(n_neighbors=25)\n",
    "knn_weight = KNNClassifier.fit(X_train, y_train)\n",
    "yhat = knn_weight.predict(X_train)\n",
    "print(\"Accuracy on train = {}\".format(accuracy(yhat, y_train)))\n",
    "yhat = knn_weight.predict(X_val)\n",
    "print(\"Accuracy on val = {}\".format(accuracy(yhat, y_val)))"
   ]
  },
  {
   "cell_type": "markdown",
   "metadata": {},
   "source": [
    "Random Forest"
   ]
  },
  {
   "cell_type": "code",
   "execution_count": 115,
   "metadata": {},
   "outputs": [
    {
     "name": "stdout",
     "output_type": "stream",
     "text": [
      "max_depth=5\n",
      "Accuracy on train = 0.38083333333333336\n",
      "Accuracy on val = 0.26578073089701\n",
      "max_depth=6\n",
      "Accuracy on train = 0.4875\n",
      "Accuracy on val = 0.27906976744186046\n",
      "max_depth=7\n",
      "Accuracy on train = 0.6308333333333334\n",
      "Accuracy on val = 0.2757475083056478\n"
     ]
    }
   ],
   "source": [
    "from sklearn.ensemble import RandomForestClassifier\n",
    "#Depth = 5 \n",
    "print(\"max_depth=5\")\n",
    "RFClassifier = RandomForestClassifier(n_estimators=100, max_depth=5, random_state=0)\n",
    "rf_weight = RFClassifier.fit(X_train, y_train)\n",
    "yhat = rf_weight.predict(X_train)\n",
    "print(\"Accuracy on train = {}\".format(accuracy(yhat, y_train)))\n",
    "yhat = rf_weight.predict(X_val)\n",
    "print(\"Accuracy on val = {}\".format(accuracy(yhat, y_val)))\n",
    "# Depth=6\n",
    "print(\"max_depth=6\")\n",
    "RFClassifier = RandomForestClassifier(n_estimators=100, max_depth=6, random_state=0)\n",
    "rf_weight = RFClassifier.fit(X_train, y_train)\n",
    "yhat = rf_weight.predict(X_train)\n",
    "print(\"Accuracy on train = {}\".format(accuracy(yhat, y_train)))\n",
    "yhat = rf_weight.predict(X_val)\n",
    "print(\"Accuracy on val = {}\".format(accuracy(yhat, y_val)))\n",
    "# Depth=7\n",
    "print(\"max_depth=7\")\n",
    "RFClassifier = RandomForestClassifier(n_estimators=100, max_depth=7, random_state=0)\n",
    "rf_weight = RFClassifier.fit(X_train, y_train)\n",
    "yhat = rf_weight.predict(X_train)\n",
    "print(\"Accuracy on train = {}\".format(accuracy(yhat, y_train)))\n",
    "yhat = rf_weight.predict(X_val)\n",
    "print(\"Accuracy on val = {}\".format(accuracy(yhat, y_val)))"
   ]
  },
  {
   "cell_type": "markdown",
   "metadata": {},
   "source": [
    "Support Vector Machine"
   ]
  },
  {
   "cell_type": "code",
   "execution_count": 116,
   "metadata": {},
   "outputs": [
    {
     "name": "stdout",
     "output_type": "stream",
     "text": [
      "Accuracy on train = 0.3358333333333333\n",
      "Accuracy on val = 0.29900332225913623\n"
     ]
    }
   ],
   "source": [
    "from sklearn.svm import LinearSVC\n",
    "SVMClassifier = LinearSVC()\n",
    "svm_weight = SVMClassifier.fit(X_train, y_train)\n",
    "yhat = svm_weight.predict(X_train)\n",
    "print(\"Accuracy on train = {}\".format(accuracy(yhat, y_train)))\n",
    "yhat = svm_weight.predict(X_val)\n",
    "print(\"Accuracy on val = {}\".format(accuracy(yhat, y_val)))"
   ]
  },
  {
   "cell_type": "code",
   "execution_count": null,
   "metadata": {},
   "outputs": [],
   "source": []
  }
 ],
 "metadata": {
  "kernelspec": {
   "display_name": "Python 3",
   "language": "python",
   "name": "python3"
  },
  "language_info": {
   "codemirror_mode": {
    "name": "ipython",
    "version": 3
   },
   "file_extension": ".py",
   "mimetype": "text/x-python",
   "name": "python",
   "nbconvert_exporter": "python",
   "pygments_lexer": "ipython3",
   "version": "3.7.1"
  }
 },
 "nbformat": 4,
 "nbformat_minor": 2
}
