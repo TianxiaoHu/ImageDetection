{
 "cells": [
  {
   "cell_type": "markdown",
   "metadata": {},
   "source": [
    "<h1> DS200A Computer Vision Assignment</h1>"
   ]
  },
  {
   "cell_type": "markdown",
   "metadata": {},
   "source": [
    "<h2>  Part One: Data Preparation </h2>\t\n"
   ]
  },
  {
   "cell_type": "markdown",
   "metadata": {},
   "source": [
    "<h3>  Import Statements </h3>\t\n"
   ]
  },
  {
   "cell_type": "code",
   "execution_count": null,
   "metadata": {},
   "outputs": [],
   "source": [
    "# Import anything you need here\n",
    "import os\n",
    "import numpy as np\n",
    "import pandas as pd\n",
    "from skimage import io"
   ]
  },
  {
   "cell_type": "markdown",
   "metadata": {},
   "source": [
    "<h4> Using the code for reference, take the given folder and create a dataframe with the picture object, and the encoding as listed below. </h4>\t\n",
    "0=Airplanes, 1=Bear, 2=Blimp, 3=Comet, 4=Crab, 5=Dog, 6=Dolphin, 7=Giraffe, 8=Goat, 9=Gorilla, 10=Kangaroo, 11=Killer-Whale, 12=Leopards, 13=Llama, 14= Penguin, 15= Porcupine, 16=Teddy-Bear, 17=Triceratops, 18=Unicorn, 19=Zebra"
   ]
  },
  {
   "cell_type": "code",
   "execution_count": null,
   "metadata": {},
   "outputs": [],
   "source": [
    "def read_images_one_dir(file_dir, index):\n",
    "    \"\"\"\n",
    "    read images under one directory,\n",
    "    return a DataFrame containing `Pictures` and `Encoding`.\n",
    "    \"\"\"\n",
    "    df = pd.DataFrame()\n",
    "    \n",
    "    # scan directory under file_dir\n",
    "    file_list = os.listdir(file_dir)\n",
    "    \n",
    "    # remove hidden files for macOS system\n",
    "    if \".DS_Store\" in file_list:\n",
    "        file_list.remove(\".DS_Store\")\n",
    "        \n",
    "    # sort the directories to match the given encoding\n",
    "    file_list = sorted(file_list)\n",
    "    \n",
    "    # read images into DataFrame\n",
    "    image = []\n",
    "    for file in file_list:\n",
    "        image.append(io.imread(os.path.join(file_dir, file)))\n",
    "    print(file_dir, \"successfully read into memory...\")\n",
    "    df[\"Pictures\"] = image\n",
    "    df[\"Encoding\"] = [index] * len(image)\n",
    "    return df"
   ]
  },
  {
   "cell_type": "code",
   "execution_count": null,
   "metadata": {},
   "outputs": [],
   "source": [
    "def read_organize_data(file_path):\n",
    "    \"\"\"\n",
    "    read all directories under `file_path`\n",
    "    \"\"\"\n",
    "    # create directory list\n",
    "    df_list = []\n",
    "    dir_list = os.listdir(os.path.join(os.getcwd(), file_path))\n",
    "    \n",
    "    # remove hidden files for macOS system\n",
    "    if \".DS_Store\" in dir_list:\n",
    "        dir_list.remove(\".DS_Store\")\n",
    "    dir_list = sorted(dir_list)\n",
    "    \n",
    "    for (d, i) in zip(dir_list, range(len(dir_list))):\n",
    "        df_list.append(read_images_one_dir(os.path.join(os.getcwd(), file_path, d), i))\n",
    "    \n",
    "    # return concatenated DataFrame\n",
    "    return pd.concat(df_list)"
   ]
  },
  {
   "cell_type": "code",
   "execution_count": null,
   "metadata": {},
   "outputs": [],
   "source": [
    "starting_data = read_organize_data(\"20_categories_training/\")"
   ]
  },
  {
   "cell_type": "code",
   "execution_count": null,
   "metadata": {},
   "outputs": [],
   "source": [
    "starting_data.head()"
   ]
  },
  {
   "cell_type": "code",
   "execution_count": null,
   "metadata": {},
   "outputs": [],
   "source": [
    "# storing data to .h5 file for easy loading in NB2\n",
    "starting_data.to_hdf(\"data.h5\", \"data\", mode=\"w\")"
   ]
  }
 ],
 "metadata": {
  "kernelspec": {
   "display_name": "Python [conda env:data100]",
   "language": "python",
   "name": "conda-env-data100-py"
  },
  "language_info": {
   "codemirror_mode": {
    "name": "ipython",
    "version": 3
   },
   "file_extension": ".py",
   "mimetype": "text/x-python",
   "name": "python",
   "nbconvert_exporter": "python",
   "pygments_lexer": "ipython3"
  }
 },
 "nbformat": 4,
 "nbformat_minor": 2
}
